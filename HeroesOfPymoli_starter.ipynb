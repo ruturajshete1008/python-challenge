{
 "cells": [
  {
   "cell_type": "markdown",
   "metadata": {},
   "source": [
    "### Heroes Of Pymoli Data Analysis\n",
    "* Of the 1163 active players, the vast majority are male (84%). There also exists, a smaller, but notable proportion of female players (14%).\n",
    "\n",
    "* Our peak age demographic falls between 20-24 (44.8%) with secondary groups falling between 15-19 (18.60%) and 25-29 (13.4%).  \n",
    "-----"
   ]
  },
  {
   "cell_type": "markdown",
   "metadata": {},
   "source": [
    "### Note\n",
    "* Instructions have been included for each segment. You do not have to follow them exactly, but they are included to help you think through the steps."
   ]
  },
  {
   "cell_type": "code",
   "execution_count": 13,
   "metadata": {},
   "outputs": [
    {
     "data": {
      "text/html": [
       "<div>\n",
       "<style scoped>\n",
       "    .dataframe tbody tr th:only-of-type {\n",
       "        vertical-align: middle;\n",
       "    }\n",
       "\n",
       "    .dataframe tbody tr th {\n",
       "        vertical-align: top;\n",
       "    }\n",
       "\n",
       "    .dataframe thead th {\n",
       "        text-align: right;\n",
       "    }\n",
       "</style>\n",
       "<table border=\"1\" class=\"dataframe\">\n",
       "  <thead>\n",
       "    <tr style=\"text-align: right;\">\n",
       "      <th></th>\n",
       "      <th>Purchase ID</th>\n",
       "      <th>SN</th>\n",
       "      <th>Age</th>\n",
       "      <th>Gender</th>\n",
       "      <th>Item ID</th>\n",
       "      <th>Item Name</th>\n",
       "      <th>Price</th>\n",
       "    </tr>\n",
       "  </thead>\n",
       "  <tbody>\n",
       "    <tr>\n",
       "      <th>0</th>\n",
       "      <td>0</td>\n",
       "      <td>Lisim78</td>\n",
       "      <td>20</td>\n",
       "      <td>Male</td>\n",
       "      <td>108</td>\n",
       "      <td>Extraction, Quickblade Of Trembling Hands</td>\n",
       "      <td>3.53</td>\n",
       "    </tr>\n",
       "    <tr>\n",
       "      <th>1</th>\n",
       "      <td>1</td>\n",
       "      <td>Lisovynya38</td>\n",
       "      <td>40</td>\n",
       "      <td>Male</td>\n",
       "      <td>143</td>\n",
       "      <td>Frenzied Scimitar</td>\n",
       "      <td>1.56</td>\n",
       "    </tr>\n",
       "    <tr>\n",
       "      <th>2</th>\n",
       "      <td>2</td>\n",
       "      <td>Ithergue48</td>\n",
       "      <td>24</td>\n",
       "      <td>Male</td>\n",
       "      <td>92</td>\n",
       "      <td>Final Critic</td>\n",
       "      <td>4.88</td>\n",
       "    </tr>\n",
       "    <tr>\n",
       "      <th>3</th>\n",
       "      <td>3</td>\n",
       "      <td>Chamassasya86</td>\n",
       "      <td>24</td>\n",
       "      <td>Male</td>\n",
       "      <td>100</td>\n",
       "      <td>Blindscythe</td>\n",
       "      <td>3.27</td>\n",
       "    </tr>\n",
       "    <tr>\n",
       "      <th>4</th>\n",
       "      <td>4</td>\n",
       "      <td>Iskosia90</td>\n",
       "      <td>23</td>\n",
       "      <td>Male</td>\n",
       "      <td>131</td>\n",
       "      <td>Fury</td>\n",
       "      <td>1.44</td>\n",
       "    </tr>\n",
       "  </tbody>\n",
       "</table>\n",
       "</div>"
      ],
      "text/plain": [
       "   Purchase ID             SN  Age Gender  Item ID  \\\n",
       "0            0        Lisim78   20   Male      108   \n",
       "1            1    Lisovynya38   40   Male      143   \n",
       "2            2     Ithergue48   24   Male       92   \n",
       "3            3  Chamassasya86   24   Male      100   \n",
       "4            4      Iskosia90   23   Male      131   \n",
       "\n",
       "                                   Item Name  Price  \n",
       "0  Extraction, Quickblade Of Trembling Hands   3.53  \n",
       "1                          Frenzied Scimitar   1.56  \n",
       "2                               Final Critic   4.88  \n",
       "3                                Blindscythe   3.27  \n",
       "4                                       Fury   1.44  "
      ]
     },
     "execution_count": 13,
     "metadata": {},
     "output_type": "execute_result"
    }
   ],
   "source": [
    "# Dependencies and Setup\n",
    "import pandas as pd\n",
    "import numpy as np\n",
    "\n",
    "# Raw data file\n",
    "file_to_load = \"Resources/purchase_data.csv\"\n",
    "\n",
    "# Read purchasing file and store into pandas data frame\n",
    "purchase_data = pd.read_csv(file_to_load, encoding=\"utf-8\")\n",
    "\n",
    "purchase_data.head()"
   ]
  },
  {
   "cell_type": "markdown",
   "metadata": {},
   "source": [
    "## Player Count"
   ]
  },
  {
   "cell_type": "markdown",
   "metadata": {},
   "source": [
    "* Display the total number of players\n"
   ]
  },
  {
   "cell_type": "code",
   "execution_count": 14,
   "metadata": {},
   "outputs": [
    {
     "data": {
      "text/html": [
       "<div>\n",
       "<style scoped>\n",
       "    .dataframe tbody tr th:only-of-type {\n",
       "        vertical-align: middle;\n",
       "    }\n",
       "\n",
       "    .dataframe tbody tr th {\n",
       "        vertical-align: top;\n",
       "    }\n",
       "\n",
       "    .dataframe thead th {\n",
       "        text-align: right;\n",
       "    }\n",
       "</style>\n",
       "<table border=\"1\" class=\"dataframe\">\n",
       "  <thead>\n",
       "    <tr style=\"text-align: right;\">\n",
       "      <th></th>\n",
       "      <th>Total Players</th>\n",
       "    </tr>\n",
       "  </thead>\n",
       "  <tbody>\n",
       "    <tr>\n",
       "      <th>0</th>\n",
       "      <td>576</td>\n",
       "    </tr>\n",
       "  </tbody>\n",
       "</table>\n",
       "</div>"
      ],
      "text/plain": [
       "   Total Players\n",
       "0            576"
      ]
     },
     "execution_count": 14,
     "metadata": {},
     "output_type": "execute_result"
    }
   ],
   "source": [
    "players_count = len(purchase_data[\"SN\"].unique())\n",
    "\n",
    "total_players = pd.DataFrame({\"Total Players\": [players_count],})\n",
    "\n",
    "total_players"
   ]
  },
  {
   "cell_type": "markdown",
   "metadata": {},
   "source": [
    "## Purchasing Analysis (Total)"
   ]
  },
  {
   "cell_type": "markdown",
   "metadata": {},
   "source": [
    "* Run basic calculations to obtain number of unique items, average price, etc.\n",
    "\n",
    "\n",
    "* Create a summary data frame to hold the results\n",
    "\n",
    "\n",
    "* Optional: give the displayed data cleaner formatting\n",
    "\n",
    "\n",
    "* Display the summary data frame\n"
   ]
  },
  {
   "cell_type": "code",
   "execution_count": 17,
   "metadata": {
    "scrolled": true
   },
   "outputs": [
    {
     "data": {
      "text/html": [
       "<style  type=\"text/css\" >\n",
       "</style>  \n",
       "<table id=\"T_1a3516c6_a1bd_11e8_b7d7_f40f242e93b6\" > \n",
       "<thead>    <tr> \n",
       "        <th class=\"blank level0\" ></th> \n",
       "        <th class=\"col_heading level0 col0\" >Number of Unique Items</th> \n",
       "        <th class=\"col_heading level0 col1\" >Average Price</th> \n",
       "        <th class=\"col_heading level0 col2\" >Number of Purchases</th> \n",
       "        <th class=\"col_heading level0 col3\" >Total Revenue</th> \n",
       "    </tr></thead> \n",
       "<tbody>    <tr> \n",
       "        <th id=\"T_1a3516c6_a1bd_11e8_b7d7_f40f242e93b6level0_row0\" class=\"row_heading level0 row0\" >0</th> \n",
       "        <td id=\"T_1a3516c6_a1bd_11e8_b7d7_f40f242e93b6row0_col0\" class=\"data row0 col0\" >183</td> \n",
       "        <td id=\"T_1a3516c6_a1bd_11e8_b7d7_f40f242e93b6row0_col1\" class=\"data row0 col1\" >$3.05</td> \n",
       "        <td id=\"T_1a3516c6_a1bd_11e8_b7d7_f40f242e93b6row0_col2\" class=\"data row0 col2\" >780</td> \n",
       "        <td id=\"T_1a3516c6_a1bd_11e8_b7d7_f40f242e93b6row0_col3\" class=\"data row0 col3\" >$2379.77</td> \n",
       "    </tr></tbody> \n",
       "</table> "
      ],
      "text/plain": [
       "<pandas.io.formats.style.Styler at 0x111bc20f0>"
      ]
     },
     "execution_count": 17,
     "metadata": {},
     "output_type": "execute_result"
    }
   ],
   "source": [
    "item_count = len(purchase_data[\"Item ID\"].unique())\n",
    "\n",
    "average_price = purchase_data[\"Price\"].mean()\n",
    "\n",
    "purchase_count = purchase_data[\"Item Name\"].count()\n",
    "\n",
    "total_revenue = purchase_data[\"Price\"].sum()\n",
    "\n",
    "summary_df = pd.DataFrame({\"Number of Unique Items\": [item_count],\n",
    "                           \"Average Price\": [average_price],\n",
    "                           \"Number of Purchases\": [purchase_count],\n",
    "                           \"Total Revenue\": [total_revenue]})\n",
    "\n",
    "summary_df.style.format({\"Average Price\": \"${:.2f}\", \"Total Revenue\": \"${:.2f}\"})"
   ]
  },
  {
   "cell_type": "markdown",
   "metadata": {},
   "source": [
    "## Gender Demographics"
   ]
  },
  {
   "cell_type": "markdown",
   "metadata": {},
   "source": [
    "* Percentage and Count of Male Players\n",
    "\n",
    "\n",
    "* Percentage and Count of Female Players\n",
    "\n",
    "\n",
    "* Percentage and Count of Other / Non-Disclosed\n",
    "\n",
    "\n"
   ]
  },
  {
   "cell_type": "code",
   "execution_count": 21,
   "metadata": {},
   "outputs": [
    {
     "data": {
      "text/html": [
       "<style  type=\"text/css\" >\n",
       "</style>  \n",
       "<table id=\"T_42a635fa_a1bd_11e8_b2e6_f40f242e93b6\" > \n",
       "<thead>    <tr> \n",
       "        <th class=\"blank level0\" ></th> \n",
       "        <th class=\"col_heading level0 col0\" >Total Count</th> \n",
       "        <th class=\"col_heading level0 col1\" >Percentage of Players</th> \n",
       "    </tr></thead> \n",
       "<tbody>    <tr> \n",
       "        <th id=\"T_42a635fa_a1bd_11e8_b2e6_f40f242e93b6level0_row0\" class=\"row_heading level0 row0\" >Male</th> \n",
       "        <td id=\"T_42a635fa_a1bd_11e8_b2e6_f40f242e93b6row0_col0\" class=\"data row0 col0\" >652</td> \n",
       "        <td id=\"T_42a635fa_a1bd_11e8_b2e6_f40f242e93b6row0_col1\" class=\"data row0 col1\" >83.59%</td> \n",
       "    </tr>    <tr> \n",
       "        <th id=\"T_42a635fa_a1bd_11e8_b2e6_f40f242e93b6level0_row1\" class=\"row_heading level0 row1\" >Female</th> \n",
       "        <td id=\"T_42a635fa_a1bd_11e8_b2e6_f40f242e93b6row1_col0\" class=\"data row1 col0\" >113</td> \n",
       "        <td id=\"T_42a635fa_a1bd_11e8_b2e6_f40f242e93b6row1_col1\" class=\"data row1 col1\" >14.49%</td> \n",
       "    </tr>    <tr> \n",
       "        <th id=\"T_42a635fa_a1bd_11e8_b2e6_f40f242e93b6level0_row2\" class=\"row_heading level0 row2\" >Other / Non-Disclosed</th> \n",
       "        <td id=\"T_42a635fa_a1bd_11e8_b2e6_f40f242e93b6row2_col0\" class=\"data row2 col0\" >15</td> \n",
       "        <td id=\"T_42a635fa_a1bd_11e8_b2e6_f40f242e93b6row2_col1\" class=\"data row2 col1\" >1.92%</td> \n",
       "    </tr></tbody> \n",
       "</table> "
      ],
      "text/plain": [
       "<pandas.io.formats.style.Styler at 0x111c28940>"
      ]
     },
     "execution_count": 21,
     "metadata": {},
     "output_type": "execute_result"
    }
   ],
   "source": [
    "count_players_gender = purchase_data[\"Gender\"].value_counts()\n",
    "\n",
    "percentage_gender = (purchase_data[\"Gender\"].value_counts())/(purchase_data[\"Gender\"].count())*100\n",
    "\n",
    "gender_demographics_table = pd.DataFrame({\"Total Count\": count_players_gender,\n",
    "                                    \"Percentage of Players\": percentage_gender})\n",
    "\n",
    "gender_demographics_table.style.format({\"Percentage of Players\": \"{:.2f}%\"})"
   ]
  },
  {
   "cell_type": "markdown",
   "metadata": {},
   "source": [
    "\n",
    "## Purchasing Analysis (Gender)"
   ]
  },
  {
   "cell_type": "markdown",
   "metadata": {},
   "source": [
    "* Run basic calculations to obtain purchase count, avg. purchase price, avg. purchase total per person etc. by gender\n",
    "\n",
    "\n",
    "\n",
    "\n",
    "* Create a summary data frame to hold the results\n",
    "\n",
    "\n",
    "* Optional: give the displayed data cleaner formatting\n",
    "\n",
    "\n",
    "* Display the summary data frame"
   ]
  },
  {
   "cell_type": "code",
   "execution_count": 25,
   "metadata": {},
   "outputs": [
    {
     "data": {
      "text/html": [
       "<style  type=\"text/css\" >\n",
       "</style>  \n",
       "<table id=\"T_a300ae9e_a1bd_11e8_96a0_f40f242e93b6\" > \n",
       "<thead>    <tr> \n",
       "        <th class=\"blank level0\" ></th> \n",
       "        <th class=\"col_heading level0 col0\" >Purchase Count</th> \n",
       "        <th class=\"col_heading level0 col1\" >Average Purchase Price</th> \n",
       "        <th class=\"col_heading level0 col2\" >Total Purchase Value</th> \n",
       "        <th class=\"col_heading level0 col3\" >Avg Purchase Total per Person</th> \n",
       "    </tr>    <tr> \n",
       "        <th class=\"index_name level0\" >Gender</th> \n",
       "        <th class=\"blank\" ></th> \n",
       "        <th class=\"blank\" ></th> \n",
       "        <th class=\"blank\" ></th> \n",
       "        <th class=\"blank\" ></th> \n",
       "    </tr></thead> \n",
       "<tbody>    <tr> \n",
       "        <th id=\"T_a300ae9e_a1bd_11e8_96a0_f40f242e93b6level0_row0\" class=\"row_heading level0 row0\" >Female</th> \n",
       "        <td id=\"T_a300ae9e_a1bd_11e8_96a0_f40f242e93b6row0_col0\" class=\"data row0 col0\" >113</td> \n",
       "        <td id=\"T_a300ae9e_a1bd_11e8_96a0_f40f242e93b6row0_col1\" class=\"data row0 col1\" >$3.20</td> \n",
       "        <td id=\"T_a300ae9e_a1bd_11e8_96a0_f40f242e93b6row0_col2\" class=\"data row0 col2\" >$361.94</td> \n",
       "        <td id=\"T_a300ae9e_a1bd_11e8_96a0_f40f242e93b6row0_col3\" class=\"data row0 col3\" >$3.20</td> \n",
       "    </tr>    <tr> \n",
       "        <th id=\"T_a300ae9e_a1bd_11e8_96a0_f40f242e93b6level0_row1\" class=\"row_heading level0 row1\" >Male</th> \n",
       "        <td id=\"T_a300ae9e_a1bd_11e8_96a0_f40f242e93b6row1_col0\" class=\"data row1 col0\" >652</td> \n",
       "        <td id=\"T_a300ae9e_a1bd_11e8_96a0_f40f242e93b6row1_col1\" class=\"data row1 col1\" >$3.02</td> \n",
       "        <td id=\"T_a300ae9e_a1bd_11e8_96a0_f40f242e93b6row1_col2\" class=\"data row1 col2\" >$1967.64</td> \n",
       "        <td id=\"T_a300ae9e_a1bd_11e8_96a0_f40f242e93b6row1_col3\" class=\"data row1 col3\" >$3.02</td> \n",
       "    </tr>    <tr> \n",
       "        <th id=\"T_a300ae9e_a1bd_11e8_96a0_f40f242e93b6level0_row2\" class=\"row_heading level0 row2\" >Other / Non-Disclosed</th> \n",
       "        <td id=\"T_a300ae9e_a1bd_11e8_96a0_f40f242e93b6row2_col0\" class=\"data row2 col0\" >15</td> \n",
       "        <td id=\"T_a300ae9e_a1bd_11e8_96a0_f40f242e93b6row2_col1\" class=\"data row2 col1\" >$3.35</td> \n",
       "        <td id=\"T_a300ae9e_a1bd_11e8_96a0_f40f242e93b6row2_col2\" class=\"data row2 col2\" >$50.19</td> \n",
       "        <td id=\"T_a300ae9e_a1bd_11e8_96a0_f40f242e93b6row2_col3\" class=\"data row2 col3\" >$3.35</td> \n",
       "    </tr></tbody> \n",
       "</table> "
      ],
      "text/plain": [
       "<pandas.io.formats.style.Styler at 0x111c3eb00>"
      ]
     },
     "execution_count": 25,
     "metadata": {},
     "output_type": "execute_result"
    }
   ],
   "source": [
    "grouped_gender_data = purchase_data.groupby(['Gender'])\n",
    "\n",
    "count_players_gender_grouped = grouped_gender_data[\"Gender\"].count()\n",
    "\n",
    "average_price_grouped = grouped_gender_data[\"Price\"].mean()\n",
    "\n",
    "total_price_grouped = grouped_gender_data[\"Price\"].sum()\n",
    "\n",
    "summary_purchasing_analysis = pd.DataFrame({\"Purchase Count\": count_players_gender_grouped,\n",
    "                           \"Average Purchase Price\": average_price_grouped,\n",
    "                           \"Total Purchase Value\": total_price_grouped,\n",
    "                           \"Avg Purchase Total per Person\": average_price_grouped})\n",
    "\n",
    "summary_purchasing_analysis.head()\n",
    "\n",
    "summary_purchasing_analysis.style.format({\"Average Purchase Price\": \"${:.2f}\", \"Total Purchase Value\": \"${:.2f}\", \"Avg Purchase Total per Person\": \"${:.2f}\"})\n"
   ]
  },
  {
   "cell_type": "markdown",
   "metadata": {},
   "source": [
    "## Age Demographics"
   ]
  },
  {
   "cell_type": "markdown",
   "metadata": {},
   "source": [
    "* Establish bins for ages\n",
    "\n",
    "\n",
    "* Categorize the existing players using the age bins. Hint: use pd.cut()\n",
    "\n",
    "\n",
    "* Calculate the numbers and percentages by age group\n",
    "\n",
    "\n",
    "* Create a summary data frame to hold the results\n",
    "\n",
    "\n",
    "* Optional: round the percentage column to two decimal points\n",
    "\n",
    "\n",
    "* Display Age Demographics Table\n"
   ]
  },
  {
   "cell_type": "code",
   "execution_count": 24,
   "metadata": {},
   "outputs": [
    {
     "data": {
      "text/html": [
       "<style  type=\"text/css\" >\n",
       "</style>  \n",
       "<table id=\"T_9b6436da_a1bd_11e8_ac97_f40f242e93b6\" > \n",
       "<thead>    <tr> \n",
       "        <th class=\"blank level0\" ></th> \n",
       "        <th class=\"col_heading level0 col0\" >Total Count</th> \n",
       "        <th class=\"col_heading level0 col1\" >Percentage of Players</th> \n",
       "    </tr>    <tr> \n",
       "        <th class=\"index_name level0\" >Age_group</th> \n",
       "        <th class=\"blank\" ></th> \n",
       "        <th class=\"blank\" ></th> \n",
       "    </tr></thead> \n",
       "<tbody>    <tr> \n",
       "        <th id=\"T_9b6436da_a1bd_11e8_ac97_f40f242e93b6level0_row0\" class=\"row_heading level0 row0\" ><10</th> \n",
       "        <td id=\"T_9b6436da_a1bd_11e8_ac97_f40f242e93b6row0_col0\" class=\"data row0 col0\" >23</td> \n",
       "        <td id=\"T_9b6436da_a1bd_11e8_ac97_f40f242e93b6row0_col1\" class=\"data row0 col1\" >2.95%</td> \n",
       "    </tr>    <tr> \n",
       "        <th id=\"T_9b6436da_a1bd_11e8_ac97_f40f242e93b6level0_row1\" class=\"row_heading level0 row1\" >10-14</th> \n",
       "        <td id=\"T_9b6436da_a1bd_11e8_ac97_f40f242e93b6row1_col0\" class=\"data row1 col0\" >28</td> \n",
       "        <td id=\"T_9b6436da_a1bd_11e8_ac97_f40f242e93b6row1_col1\" class=\"data row1 col1\" >3.59%</td> \n",
       "    </tr>    <tr> \n",
       "        <th id=\"T_9b6436da_a1bd_11e8_ac97_f40f242e93b6level0_row2\" class=\"row_heading level0 row2\" >15-19</th> \n",
       "        <td id=\"T_9b6436da_a1bd_11e8_ac97_f40f242e93b6row2_col0\" class=\"data row2 col0\" >136</td> \n",
       "        <td id=\"T_9b6436da_a1bd_11e8_ac97_f40f242e93b6row2_col1\" class=\"data row2 col1\" >17.44%</td> \n",
       "    </tr>    <tr> \n",
       "        <th id=\"T_9b6436da_a1bd_11e8_ac97_f40f242e93b6level0_row3\" class=\"row_heading level0 row3\" >20-24</th> \n",
       "        <td id=\"T_9b6436da_a1bd_11e8_ac97_f40f242e93b6row3_col0\" class=\"data row3 col0\" >365</td> \n",
       "        <td id=\"T_9b6436da_a1bd_11e8_ac97_f40f242e93b6row3_col1\" class=\"data row3 col1\" >46.79%</td> \n",
       "    </tr>    <tr> \n",
       "        <th id=\"T_9b6436da_a1bd_11e8_ac97_f40f242e93b6level0_row4\" class=\"row_heading level0 row4\" >25-29</th> \n",
       "        <td id=\"T_9b6436da_a1bd_11e8_ac97_f40f242e93b6row4_col0\" class=\"data row4 col0\" >101</td> \n",
       "        <td id=\"T_9b6436da_a1bd_11e8_ac97_f40f242e93b6row4_col1\" class=\"data row4 col1\" >12.95%</td> \n",
       "    </tr>    <tr> \n",
       "        <th id=\"T_9b6436da_a1bd_11e8_ac97_f40f242e93b6level0_row5\" class=\"row_heading level0 row5\" >30-34</th> \n",
       "        <td id=\"T_9b6436da_a1bd_11e8_ac97_f40f242e93b6row5_col0\" class=\"data row5 col0\" >73</td> \n",
       "        <td id=\"T_9b6436da_a1bd_11e8_ac97_f40f242e93b6row5_col1\" class=\"data row5 col1\" >9.36%</td> \n",
       "    </tr>    <tr> \n",
       "        <th id=\"T_9b6436da_a1bd_11e8_ac97_f40f242e93b6level0_row6\" class=\"row_heading level0 row6\" >35-39</th> \n",
       "        <td id=\"T_9b6436da_a1bd_11e8_ac97_f40f242e93b6row6_col0\" class=\"data row6 col0\" >41</td> \n",
       "        <td id=\"T_9b6436da_a1bd_11e8_ac97_f40f242e93b6row6_col1\" class=\"data row6 col1\" >5.26%</td> \n",
       "    </tr>    <tr> \n",
       "        <th id=\"T_9b6436da_a1bd_11e8_ac97_f40f242e93b6level0_row7\" class=\"row_heading level0 row7\" >40+</th> \n",
       "        <td id=\"T_9b6436da_a1bd_11e8_ac97_f40f242e93b6row7_col0\" class=\"data row7 col0\" >13</td> \n",
       "        <td id=\"T_9b6436da_a1bd_11e8_ac97_f40f242e93b6row7_col1\" class=\"data row7 col1\" >1.67%</td> \n",
       "    </tr></tbody> \n",
       "</table> "
      ],
      "text/plain": [
       "<pandas.io.formats.style.Styler at 0x110ec0080>"
      ]
     },
     "execution_count": 24,
     "metadata": {},
     "output_type": "execute_result"
    }
   ],
   "source": [
    "age_bins = [0, 9.90, 14.90, 19.90, 24.90, 29.90, 34.90, 39.90, 99999]\n",
    "group_names = [\"<10\", \"10-14\", \"15-19\", \"20-24\", \"25-29\", \"30-34\", \"35-39\", \"40+\"]\n",
    "\n",
    "purchase_data[\"Age_group\"] = pd.cut(purchase_data[\"Age\"], age_bins, labels=group_names)\n",
    "\n",
    "group_age_bin_df = purchase_data.groupby([\"Age_group\"])\n",
    "\n",
    "count_players_age = group_age_bin_df[\"SN\"].count()\n",
    "\n",
    "count_age = purchase_data[\"SN\"].count()\n",
    "\n",
    "percentage_age = (count_players_age/count_age)*100\n",
    "\n",
    "age_demographics_table = pd.DataFrame({\"Total Count\": count_players_age,\n",
    "                                        \"Percentage of Players\": percentage_age})\n",
    "\n",
    "age_demographics_table.style.format({\"Percentage of Players\": \"{:.2f}%\"})"
   ]
  },
  {
   "cell_type": "markdown",
   "metadata": {},
   "source": [
    "## Purchasing Analysis (Age)"
   ]
  },
  {
   "cell_type": "markdown",
   "metadata": {},
   "source": [
    "* Bin the purchase_data data frame by age\n",
    "\n",
    "\n",
    "* Run basic calculations to obtain purchase count, avg. purchase price, avg. purchase total per person etc. in the table below\n",
    "\n",
    "\n",
    "* Create a summary data frame to hold the results\n",
    "\n",
    "\n",
    "* Optional: give the displayed data cleaner formatting\n",
    "\n",
    "\n",
    "* Display the summary data frame"
   ]
  },
  {
   "cell_type": "code",
   "execution_count": 16,
   "metadata": {},
   "outputs": [
    {
     "data": {
      "text/html": [
       "<style  type=\"text/css\" >\n",
       "</style>  \n",
       "<table id=\"T_d9b81a24_a1bc_11e8_b74b_f40f242e93b6\" > \n",
       "<thead>    <tr> \n",
       "        <th class=\"blank level0\" ></th> \n",
       "        <th class=\"col_heading level0 col0\" >Purchase Count</th> \n",
       "        <th class=\"col_heading level0 col1\" >Average Purchase Price</th> \n",
       "        <th class=\"col_heading level0 col2\" >Total Purchase Value</th> \n",
       "        <th class=\"col_heading level0 col3\" >Avg Purchase Total per Person</th> \n",
       "    </tr></thead> \n",
       "<tbody>    <tr> \n",
       "        <th id=\"T_d9b81a24_a1bc_11e8_b74b_f40f242e93b6level0_row0\" class=\"row_heading level0 row0\" >10-14</th> \n",
       "        <td id=\"T_d9b81a24_a1bc_11e8_b74b_f40f242e93b6row0_col0\" class=\"data row0 col0\" >28</td> \n",
       "        <td id=\"T_d9b81a24_a1bc_11e8_b74b_f40f242e93b6row0_col1\" class=\"data row0 col1\" >$2.96</td> \n",
       "        <td id=\"T_d9b81a24_a1bc_11e8_b74b_f40f242e93b6row0_col2\" class=\"data row0 col2\" >$82.78</td> \n",
       "        <td id=\"T_d9b81a24_a1bc_11e8_b74b_f40f242e93b6row0_col3\" class=\"data row0 col3\" >$2.96</td> \n",
       "    </tr>    <tr> \n",
       "        <th id=\"T_d9b81a24_a1bc_11e8_b74b_f40f242e93b6level0_row1\" class=\"row_heading level0 row1\" >15-19</th> \n",
       "        <td id=\"T_d9b81a24_a1bc_11e8_b74b_f40f242e93b6row1_col0\" class=\"data row1 col0\" >136</td> \n",
       "        <td id=\"T_d9b81a24_a1bc_11e8_b74b_f40f242e93b6row1_col1\" class=\"data row1 col1\" >$3.04</td> \n",
       "        <td id=\"T_d9b81a24_a1bc_11e8_b74b_f40f242e93b6row1_col2\" class=\"data row1 col2\" >$412.89</td> \n",
       "        <td id=\"T_d9b81a24_a1bc_11e8_b74b_f40f242e93b6row1_col3\" class=\"data row1 col3\" >$3.04</td> \n",
       "    </tr>    <tr> \n",
       "        <th id=\"T_d9b81a24_a1bc_11e8_b74b_f40f242e93b6level0_row2\" class=\"row_heading level0 row2\" >20-24</th> \n",
       "        <td id=\"T_d9b81a24_a1bc_11e8_b74b_f40f242e93b6row2_col0\" class=\"data row2 col0\" >365</td> \n",
       "        <td id=\"T_d9b81a24_a1bc_11e8_b74b_f40f242e93b6row2_col1\" class=\"data row2 col1\" >$3.05</td> \n",
       "        <td id=\"T_d9b81a24_a1bc_11e8_b74b_f40f242e93b6row2_col2\" class=\"data row2 col2\" >$1114.06</td> \n",
       "        <td id=\"T_d9b81a24_a1bc_11e8_b74b_f40f242e93b6row2_col3\" class=\"data row2 col3\" >$3.05</td> \n",
       "    </tr>    <tr> \n",
       "        <th id=\"T_d9b81a24_a1bc_11e8_b74b_f40f242e93b6level0_row3\" class=\"row_heading level0 row3\" >25-29</th> \n",
       "        <td id=\"T_d9b81a24_a1bc_11e8_b74b_f40f242e93b6row3_col0\" class=\"data row3 col0\" >101</td> \n",
       "        <td id=\"T_d9b81a24_a1bc_11e8_b74b_f40f242e93b6row3_col1\" class=\"data row3 col1\" >$2.90</td> \n",
       "        <td id=\"T_d9b81a24_a1bc_11e8_b74b_f40f242e93b6row3_col2\" class=\"data row3 col2\" >$293.00</td> \n",
       "        <td id=\"T_d9b81a24_a1bc_11e8_b74b_f40f242e93b6row3_col3\" class=\"data row3 col3\" >$2.90</td> \n",
       "    </tr>    <tr> \n",
       "        <th id=\"T_d9b81a24_a1bc_11e8_b74b_f40f242e93b6level0_row4\" class=\"row_heading level0 row4\" >30-34</th> \n",
       "        <td id=\"T_d9b81a24_a1bc_11e8_b74b_f40f242e93b6row4_col0\" class=\"data row4 col0\" >73</td> \n",
       "        <td id=\"T_d9b81a24_a1bc_11e8_b74b_f40f242e93b6row4_col1\" class=\"data row4 col1\" >$2.93</td> \n",
       "        <td id=\"T_d9b81a24_a1bc_11e8_b74b_f40f242e93b6row4_col2\" class=\"data row4 col2\" >$214.00</td> \n",
       "        <td id=\"T_d9b81a24_a1bc_11e8_b74b_f40f242e93b6row4_col3\" class=\"data row4 col3\" >$2.93</td> \n",
       "    </tr>    <tr> \n",
       "        <th id=\"T_d9b81a24_a1bc_11e8_b74b_f40f242e93b6level0_row5\" class=\"row_heading level0 row5\" >35-39</th> \n",
       "        <td id=\"T_d9b81a24_a1bc_11e8_b74b_f40f242e93b6row5_col0\" class=\"data row5 col0\" >41</td> \n",
       "        <td id=\"T_d9b81a24_a1bc_11e8_b74b_f40f242e93b6row5_col1\" class=\"data row5 col1\" >$3.60</td> \n",
       "        <td id=\"T_d9b81a24_a1bc_11e8_b74b_f40f242e93b6row5_col2\" class=\"data row5 col2\" >$147.67</td> \n",
       "        <td id=\"T_d9b81a24_a1bc_11e8_b74b_f40f242e93b6row5_col3\" class=\"data row5 col3\" >$3.60</td> \n",
       "    </tr>    <tr> \n",
       "        <th id=\"T_d9b81a24_a1bc_11e8_b74b_f40f242e93b6level0_row6\" class=\"row_heading level0 row6\" >40+</th> \n",
       "        <td id=\"T_d9b81a24_a1bc_11e8_b74b_f40f242e93b6row6_col0\" class=\"data row6 col0\" >13</td> \n",
       "        <td id=\"T_d9b81a24_a1bc_11e8_b74b_f40f242e93b6row6_col1\" class=\"data row6 col1\" >$2.94</td> \n",
       "        <td id=\"T_d9b81a24_a1bc_11e8_b74b_f40f242e93b6row6_col2\" class=\"data row6 col2\" >$38.24</td> \n",
       "        <td id=\"T_d9b81a24_a1bc_11e8_b74b_f40f242e93b6row6_col3\" class=\"data row6 col3\" >$2.94</td> \n",
       "    </tr>    <tr> \n",
       "        <th id=\"T_d9b81a24_a1bc_11e8_b74b_f40f242e93b6level0_row7\" class=\"row_heading level0 row7\" ><10</th> \n",
       "        <td id=\"T_d9b81a24_a1bc_11e8_b74b_f40f242e93b6row7_col0\" class=\"data row7 col0\" >23</td> \n",
       "        <td id=\"T_d9b81a24_a1bc_11e8_b74b_f40f242e93b6row7_col1\" class=\"data row7 col1\" >$3.35</td> \n",
       "        <td id=\"T_d9b81a24_a1bc_11e8_b74b_f40f242e93b6row7_col2\" class=\"data row7 col2\" >$77.13</td> \n",
       "        <td id=\"T_d9b81a24_a1bc_11e8_b74b_f40f242e93b6row7_col3\" class=\"data row7 col3\" >$3.35</td> \n",
       "    </tr></tbody> \n",
       "</table> "
      ],
      "text/plain": [
       "<pandas.io.formats.style.Styler at 0x110cc95f8>"
      ]
     },
     "execution_count": 16,
     "metadata": {},
     "output_type": "execute_result"
    }
   ],
   "source": [
    "age_bins = [0, 9.90, 14.90, 19.90, 24.90, 29.90, 34.90, 39.90, 99999]\n",
    "group_names = [\"<10\", \"10-14\", \"15-19\", \"20-24\", \"25-29\", \"30-34\", \"35-39\", \"40+\"]\n",
    "\n",
    "purchase_data[\"Age_group\"] = pd.cut(purchase_data[\"Age\"], age_bins, labels=group_names)\n",
    "\n",
    "\n",
    "grouped_purchase_data = purchase_data.groupby(['Age_group'])\n",
    "\n",
    "count_purchase = purchase_data[\"Age_group\"].value_counts()\n",
    "\n",
    "average_purchase_price = grouped_purchase_data[\"Price\"].mean()\n",
    "\n",
    "total_purchase_price = grouped_purchase_data[\"Price\"].sum()\n",
    "\n",
    "summary_purchasing_analysis_byage = pd.DataFrame({\"Purchase Count\": count_purchase,\n",
    "                           \"Average Purchase Price\": average_purchase_price,\n",
    "                           \"Total Purchase Value\": total_purchase_price,\n",
    "                           \"Avg Purchase Total per Person\": average_purchase_price})\n",
    "\n",
    "summary_purchasing_analysis_byage\n",
    "\n",
    "summary_purchasing_analysis_byage.style.format({\"Average Purchase Price\": \"${:.2f}\", \"Total Purchase Value\": \"${:.2f}\", \"Avg Purchase Total per Person\": \"${:.2f}\"})\n"
   ]
  },
  {
   "cell_type": "markdown",
   "metadata": {},
   "source": [
    "## Top Spenders"
   ]
  },
  {
   "cell_type": "markdown",
   "metadata": {},
   "source": [
    "* Run basic calculations to obtain the results in the table below\n",
    "\n",
    "\n",
    "* Create a summary data frame to hold the results\n",
    "\n",
    "\n",
    "* Sort the total purchase value column in descending order\n",
    "\n",
    "\n",
    "* Optional: give the displayed data cleaner formatting\n",
    "\n",
    "\n",
    "* Display a preview of the summary data frame\n",
    "\n"
   ]
  },
  {
   "cell_type": "code",
   "execution_count": 29,
   "metadata": {},
   "outputs": [
    {
     "data": {
      "text/html": [
       "<style  type=\"text/css\" >\n",
       "</style>  \n",
       "<table id=\"T_f87d4136_a1bd_11e8_94be_f40f242e93b6\" > \n",
       "<thead>    <tr> \n",
       "        <th class=\"blank level0\" ></th> \n",
       "        <th class=\"col_heading level0 col0\" >Purchase Count</th> \n",
       "        <th class=\"col_heading level0 col1\" >Average Purchase Price</th> \n",
       "        <th class=\"col_heading level0 col2\" >Total Purchase Value</th> \n",
       "    </tr>    <tr> \n",
       "        <th class=\"index_name level0\" >SN</th> \n",
       "        <th class=\"blank\" ></th> \n",
       "        <th class=\"blank\" ></th> \n",
       "        <th class=\"blank\" ></th> \n",
       "    </tr></thead> \n",
       "<tbody>    <tr> \n",
       "        <th id=\"T_f87d4136_a1bd_11e8_94be_f40f242e93b6level0_row0\" class=\"row_heading level0 row0\" >Lisosia93</th> \n",
       "        <td id=\"T_f87d4136_a1bd_11e8_94be_f40f242e93b6row0_col0\" class=\"data row0 col0\" >5</td> \n",
       "        <td id=\"T_f87d4136_a1bd_11e8_94be_f40f242e93b6row0_col1\" class=\"data row0 col1\" >$3.79</td> \n",
       "        <td id=\"T_f87d4136_a1bd_11e8_94be_f40f242e93b6row0_col2\" class=\"data row0 col2\" >$18.96</td> \n",
       "    </tr>    <tr> \n",
       "        <th id=\"T_f87d4136_a1bd_11e8_94be_f40f242e93b6level0_row1\" class=\"row_heading level0 row1\" >Idastidru52</th> \n",
       "        <td id=\"T_f87d4136_a1bd_11e8_94be_f40f242e93b6row1_col0\" class=\"data row1 col0\" >4</td> \n",
       "        <td id=\"T_f87d4136_a1bd_11e8_94be_f40f242e93b6row1_col1\" class=\"data row1 col1\" >$3.86</td> \n",
       "        <td id=\"T_f87d4136_a1bd_11e8_94be_f40f242e93b6row1_col2\" class=\"data row1 col2\" >$15.45</td> \n",
       "    </tr>    <tr> \n",
       "        <th id=\"T_f87d4136_a1bd_11e8_94be_f40f242e93b6level0_row2\" class=\"row_heading level0 row2\" >Chamjask73</th> \n",
       "        <td id=\"T_f87d4136_a1bd_11e8_94be_f40f242e93b6row2_col0\" class=\"data row2 col0\" >3</td> \n",
       "        <td id=\"T_f87d4136_a1bd_11e8_94be_f40f242e93b6row2_col1\" class=\"data row2 col1\" >$4.61</td> \n",
       "        <td id=\"T_f87d4136_a1bd_11e8_94be_f40f242e93b6row2_col2\" class=\"data row2 col2\" >$13.83</td> \n",
       "    </tr>    <tr> \n",
       "        <th id=\"T_f87d4136_a1bd_11e8_94be_f40f242e93b6level0_row3\" class=\"row_heading level0 row3\" >Iral74</th> \n",
       "        <td id=\"T_f87d4136_a1bd_11e8_94be_f40f242e93b6row3_col0\" class=\"data row3 col0\" >4</td> \n",
       "        <td id=\"T_f87d4136_a1bd_11e8_94be_f40f242e93b6row3_col1\" class=\"data row3 col1\" >$3.40</td> \n",
       "        <td id=\"T_f87d4136_a1bd_11e8_94be_f40f242e93b6row3_col2\" class=\"data row3 col2\" >$13.62</td> \n",
       "    </tr>    <tr> \n",
       "        <th id=\"T_f87d4136_a1bd_11e8_94be_f40f242e93b6level0_row4\" class=\"row_heading level0 row4\" >Iskadarya95</th> \n",
       "        <td id=\"T_f87d4136_a1bd_11e8_94be_f40f242e93b6row4_col0\" class=\"data row4 col0\" >3</td> \n",
       "        <td id=\"T_f87d4136_a1bd_11e8_94be_f40f242e93b6row4_col1\" class=\"data row4 col1\" >$4.37</td> \n",
       "        <td id=\"T_f87d4136_a1bd_11e8_94be_f40f242e93b6row4_col2\" class=\"data row4 col2\" >$13.10</td> \n",
       "    </tr></tbody> \n",
       "</table> "
      ],
      "text/plain": [
       "<pandas.io.formats.style.Styler at 0x111c4f400>"
      ]
     },
     "execution_count": 29,
     "metadata": {},
     "output_type": "execute_result"
    }
   ],
   "source": [
    "grouped_user_data = purchase_data.groupby(['SN'])\n",
    "\n",
    "count_spenders = grouped_user_data[\"Item ID\"].count()\n",
    "\n",
    "average_spenders_price = grouped_user_data[\"Price\"].mean()\n",
    "\n",
    "total_spenders_price = grouped_user_data[\"Price\"].sum()\n",
    "\n",
    "summary_top_spenders = pd.DataFrame({\"Purchase Count\": count_spenders,\n",
    "                           \"Average Purchase Price\": average_spenders_price,\n",
    "                           \"Total Purchase Value\": total_spenders_price})\n",
    "\n",
    "summary_top_spenders = summary_top_spenders.sort_values(by= \"Total Purchase Value\", ascending=False)\n",
    "\n",
    "summary_top_spenders.head().style.format({\"Average Purchase Price\": \"${:.2f}\", \"Total Purchase Value\": \"${:.2f}\"})\n"
   ]
  },
  {
   "cell_type": "markdown",
   "metadata": {},
   "source": [
    "## Most Popular Items"
   ]
  },
  {
   "cell_type": "raw",
   "metadata": {},
   "source": [
    "* Retrieve the Item ID, Item Name, and Item Price columns\n",
    "\n",
    "\n",
    "* Group by Item ID and Item Name. Perform calculations to obtain purchase count, item price, and total purchase value\n",
    "\n",
    "\n",
    "* Create a summary data frame to hold the results\n",
    "\n",
    "\n",
    "* Sort the purchase count column in descending order\n",
    "\n",
    "\n",
    "* Optional: give the displayed data cleaner formatting\n",
    "\n",
    "\n",
    "* Display a preview of the summary data frame\n",
    "\n"
   ]
  },
  {
   "cell_type": "code",
   "execution_count": 301,
   "metadata": {},
   "outputs": [
    {
     "data": {
      "text/html": [
       "<div>\n",
       "<style scoped>\n",
       "    .dataframe tbody tr th:only-of-type {\n",
       "        vertical-align: middle;\n",
       "    }\n",
       "\n",
       "    .dataframe tbody tr th {\n",
       "        vertical-align: top;\n",
       "    }\n",
       "\n",
       "    .dataframe thead th {\n",
       "        text-align: right;\n",
       "    }\n",
       "</style>\n",
       "<table border=\"1\" class=\"dataframe\">\n",
       "  <thead>\n",
       "    <tr style=\"text-align: right;\">\n",
       "      <th></th>\n",
       "      <th></th>\n",
       "      <th>Purchase Count</th>\n",
       "      <th>Item Price</th>\n",
       "      <th>Total Purchase Value</th>\n",
       "    </tr>\n",
       "    <tr>\n",
       "      <th>Item ID</th>\n",
       "      <th>Item Name</th>\n",
       "      <th></th>\n",
       "      <th></th>\n",
       "      <th></th>\n",
       "    </tr>\n",
       "  </thead>\n",
       "  <tbody>\n",
       "    <tr>\n",
       "      <th>42</th>\n",
       "      <th>The Decapitator</th>\n",
       "      <td>1</td>\n",
       "      <td>1.75</td>\n",
       "      <td>1.75</td>\n",
       "    </tr>\n",
       "    <tr>\n",
       "      <th>104</th>\n",
       "      <th>Gladiator's Glaive</th>\n",
       "      <td>1</td>\n",
       "      <td>1.93</td>\n",
       "      <td>1.93</td>\n",
       "    </tr>\n",
       "    <tr>\n",
       "      <th>23</th>\n",
       "      <th>Crucifer</th>\n",
       "      <td>1</td>\n",
       "      <td>1.99</td>\n",
       "      <td>1.99</td>\n",
       "    </tr>\n",
       "    <tr>\n",
       "      <th>126</th>\n",
       "      <th>Exiled Mithril Longsword</th>\n",
       "      <td>1</td>\n",
       "      <td>2.00</td>\n",
       "      <td>2.00</td>\n",
       "    </tr>\n",
       "    <tr>\n",
       "      <th>125</th>\n",
       "      <th>Whistling Mithril Warblade</th>\n",
       "      <td>2</td>\n",
       "      <td>1.00</td>\n",
       "      <td>2.00</td>\n",
       "    </tr>\n",
       "  </tbody>\n",
       "</table>\n",
       "</div>"
      ],
      "text/plain": [
       "                                    Purchase Count  Item Price  \\\n",
       "Item ID Item Name                                                \n",
       "42      The Decapitator                          1        1.75   \n",
       "104     Gladiator's Glaive                       1        1.93   \n",
       "23      Crucifer                                 1        1.99   \n",
       "126     Exiled Mithril Longsword                 1        2.00   \n",
       "125     Whistling Mithril Warblade               2        1.00   \n",
       "\n",
       "                                    Total Purchase Value  \n",
       "Item ID Item Name                                         \n",
       "42      The Decapitator                             1.75  \n",
       "104     Gladiator's Glaive                          1.93  \n",
       "23      Crucifer                                    1.99  \n",
       "126     Exiled Mithril Longsword                    2.00  \n",
       "125     Whistling Mithril Warblade                  2.00  "
      ]
     },
     "execution_count": 301,
     "metadata": {},
     "output_type": "execute_result"
    }
   ],
   "source": [
    "grouped_Item_data = purchase_data.groupby(['Item ID', 'Item Name'])\n",
    "\n",
    "\n",
    "count_popular = grouped_Item_data[\"SN\"].count()\n",
    "\n",
    "total_price_item = grouped_Item_data[\"Price\"].sum()\n",
    "\n",
    "price_item = (total_price_item/count_popular)\n",
    "\n",
    "summary_popular = pd.DataFrame({\"Purchase Count\": count_popular,\n",
    "                           \"Item Price\": price_item,\n",
    "                           \"Total Purchase Value\": total_price_item})\n",
    "\n",
    "summary_popular = summary_popular.sort_values(by= \"Total Purchase Value\", ascending=True)\n",
    "summary_popular.head()"
   ]
  },
  {
   "cell_type": "markdown",
   "metadata": {},
   "source": [
    "## Most Profitable Items"
   ]
  },
  {
   "cell_type": "markdown",
   "metadata": {},
   "source": [
    "* Sort the above table by total purchase value in descending order\n",
    "\n",
    "\n",
    "* Optional: give the displayed data cleaner formatting\n",
    "\n",
    "\n",
    "* Display a preview of the data frame\n",
    "\n"
   ]
  },
  {
   "cell_type": "code",
   "execution_count": 302,
   "metadata": {
    "scrolled": true
   },
   "outputs": [
    {
     "data": {
      "text/html": [
       "<div>\n",
       "<style scoped>\n",
       "    .dataframe tbody tr th:only-of-type {\n",
       "        vertical-align: middle;\n",
       "    }\n",
       "\n",
       "    .dataframe tbody tr th {\n",
       "        vertical-align: top;\n",
       "    }\n",
       "\n",
       "    .dataframe thead th {\n",
       "        text-align: right;\n",
       "    }\n",
       "</style>\n",
       "<table border=\"1\" class=\"dataframe\">\n",
       "  <thead>\n",
       "    <tr style=\"text-align: right;\">\n",
       "      <th></th>\n",
       "      <th></th>\n",
       "      <th>Purchase Count</th>\n",
       "      <th>Item Price</th>\n",
       "      <th>Total Purchase Value</th>\n",
       "    </tr>\n",
       "    <tr>\n",
       "      <th>Item ID</th>\n",
       "      <th>Item Name</th>\n",
       "      <th></th>\n",
       "      <th></th>\n",
       "      <th></th>\n",
       "    </tr>\n",
       "  </thead>\n",
       "  <tbody>\n",
       "    <tr>\n",
       "      <th>178</th>\n",
       "      <th>Oathbreaker, Last Hope of the Breaking Storm</th>\n",
       "      <td>12</td>\n",
       "      <td>4.23</td>\n",
       "      <td>50.76</td>\n",
       "    </tr>\n",
       "    <tr>\n",
       "      <th>82</th>\n",
       "      <th>Nirvana</th>\n",
       "      <td>9</td>\n",
       "      <td>4.90</td>\n",
       "      <td>44.10</td>\n",
       "    </tr>\n",
       "    <tr>\n",
       "      <th>145</th>\n",
       "      <th>Fiery Glass Crusader</th>\n",
       "      <td>9</td>\n",
       "      <td>4.58</td>\n",
       "      <td>41.22</td>\n",
       "    </tr>\n",
       "    <tr>\n",
       "      <th>92</th>\n",
       "      <th>Final Critic</th>\n",
       "      <td>8</td>\n",
       "      <td>4.88</td>\n",
       "      <td>39.04</td>\n",
       "    </tr>\n",
       "    <tr>\n",
       "      <th>103</th>\n",
       "      <th>Singed Scalpel</th>\n",
       "      <td>8</td>\n",
       "      <td>4.35</td>\n",
       "      <td>34.80</td>\n",
       "    </tr>\n",
       "  </tbody>\n",
       "</table>\n",
       "</div>"
      ],
      "text/plain": [
       "                                                      Purchase Count  \\\n",
       "Item ID Item Name                                                      \n",
       "178     Oathbreaker, Last Hope of the Breaking Storm              12   \n",
       "82      Nirvana                                                    9   \n",
       "145     Fiery Glass Crusader                                       9   \n",
       "92      Final Critic                                               8   \n",
       "103     Singed Scalpel                                             8   \n",
       "\n",
       "                                                      Item Price  \\\n",
       "Item ID Item Name                                                  \n",
       "178     Oathbreaker, Last Hope of the Breaking Storm        4.23   \n",
       "82      Nirvana                                             4.90   \n",
       "145     Fiery Glass Crusader                                4.58   \n",
       "92      Final Critic                                        4.88   \n",
       "103     Singed Scalpel                                      4.35   \n",
       "\n",
       "                                                      Total Purchase Value  \n",
       "Item ID Item Name                                                           \n",
       "178     Oathbreaker, Last Hope of the Breaking Storm                 50.76  \n",
       "82      Nirvana                                                      44.10  \n",
       "145     Fiery Glass Crusader                                         41.22  \n",
       "92      Final Critic                                                 39.04  \n",
       "103     Singed Scalpel                                               34.80  "
      ]
     },
     "execution_count": 302,
     "metadata": {},
     "output_type": "execute_result"
    }
   ],
   "source": [
    "summary_popular = summary_popular.sort_values(by= \"Total Purchase Value\", ascending=False)\n",
    "summary_popular.head()"
   ]
  },
  {
   "cell_type": "code",
   "execution_count": null,
   "metadata": {},
   "outputs": [],
   "source": []
  }
 ],
 "metadata": {
  "anaconda-cloud": {},
  "kernel_info": {
   "name": "python3"
  },
  "kernelspec": {
   "display_name": "Python [default]",
   "language": "python",
   "name": "python3"
  },
  "language_info": {
   "codemirror_mode": {
    "name": "ipython",
    "version": 3
   },
   "file_extension": ".py",
   "mimetype": "text/x-python",
   "name": "python",
   "nbconvert_exporter": "python",
   "pygments_lexer": "ipython3",
   "version": "3.6.5"
  },
  "nteract": {
   "version": "0.8.4"
  }
 },
 "nbformat": 4,
 "nbformat_minor": 1
}
